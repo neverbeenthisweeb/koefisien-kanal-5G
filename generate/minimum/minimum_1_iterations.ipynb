{
 "cells": [
  {
   "cell_type": "markdown",
   "metadata": {},
   "source": [
    "# Path Generator (Min)"
   ]
  },
  {
   "cell_type": "markdown",
   "metadata": {},
   "source": [
    "## Modules"
   ]
  },
  {
   "cell_type": "code",
   "execution_count": 1,
   "metadata": {},
   "outputs": [
    {
     "ename": "ModuleNotFoundError",
     "evalue": "No module named 'pyspark'",
     "output_type": "error",
     "traceback": [
      "\u001b[0;31m---------------------------------------------------------------------------\u001b[0m",
      "\u001b[0;31mModuleNotFoundError\u001b[0m                       Traceback (most recent call last)",
      "\u001b[0;32m<ipython-input-1-53dcb2ea5b3b>\u001b[0m in \u001b[0;36m<module>\u001b[0;34m\u001b[0m\n\u001b[1;32m     12\u001b[0m \u001b[0msns\u001b[0m\u001b[0;34m.\u001b[0m\u001b[0mset\u001b[0m\u001b[0;34m(\u001b[0m\u001b[0mstyle\u001b[0m\u001b[0;34m=\u001b[0m\u001b[0;34m\"whitegrid\"\u001b[0m\u001b[0;34m)\u001b[0m\u001b[0;34m\u001b[0m\u001b[0;34m\u001b[0m\u001b[0m\n\u001b[1;32m     13\u001b[0m \u001b[0;34m\u001b[0m\u001b[0m\n\u001b[0;32m---> 14\u001b[0;31m \u001b[0;32mfrom\u001b[0m \u001b[0mpyspark\u001b[0m \u001b[0;32mimport\u001b[0m \u001b[0mSparkContext\u001b[0m\u001b[0;34m,\u001b[0m \u001b[0mSparkConf\u001b[0m\u001b[0;34m\u001b[0m\u001b[0;34m\u001b[0m\u001b[0m\n\u001b[0m",
      "\u001b[0;31mModuleNotFoundError\u001b[0m: No module named 'pyspark'"
     ]
    }
   ],
   "source": [
    "import sys\n",
    "sys.path.append('../modules')\n",
    "import random\n",
    "\n",
    "import numpy as np\n",
    "np.set_printoptions(suppress=True)\n",
    "import pandas as pd\n",
    "\n",
    "import matplotlib.pyplot as plt\n",
    "np.set_printoptions(suppress=True)\n",
    "import seaborn as sns\n",
    "sns.set(style=\"whitegrid\")\n",
    "\n",
    "from pyspark import SparkContext, SparkConf"
   ]
  },
  {
   "cell_type": "markdown",
   "metadata": {},
   "source": [
    "## Function"
   ]
  },
  {
   "cell_type": "code",
   "execution_count": 2,
   "metadata": {},
   "outputs": [],
   "source": [
    "def generateAngleMin(angleNumber, beamWidth):\n",
    "    angle = []\n",
    "    lowerBound = -beamWidth / 2\n",
    "    upperBound = beamWidth\n",
    "    for i in range(1, angleNumber + 1):\n",
    "        toAdd = random.uniform(lowerBound, upperBound)\n",
    "        if i % 2 == 0:\n",
    "            angle.append(toAdd)\n",
    "        else:\n",
    "            angle.append(toAdd + 180)\n",
    "    return angle\n",
    "\n",
    "\n",
    "def cosDifference(angle1, angle2):\n",
    "    cosDiff = np.cos(np.deg2rad(angle1 - angle2))\n",
    "    return cosDiff\n",
    "\n",
    "\n",
    "def angularValue(angleArray):\n",
    "    totalCos = 0\n",
    "    index = 1\n",
    "    for i in angleArray:\n",
    "        for j in angleArray[index:]:\n",
    "            totalCos += cosDifference(i, j)\n",
    "        index += 1\n",
    "    return totalCos\n",
    "\n",
    "\n",
    "def generateChannelCoefficient(pathNumber, pathCoefficient, angleArray):\n",
    "    channelCoeff = np.square(pathCoefficient) * (\n",
    "        pathNumber + (2 * angularValue(angleArray)))\n",
    "    return channelCoeff"
   ]
  },
  {
   "cell_type": "markdown",
   "metadata": {},
   "source": [
    "## Variables"
   ]
  },
  {
   "cell_type": "code",
   "execution_count": 3,
   "metadata": {},
   "outputs": [],
   "source": [
    "beamWidth = 20\n",
    "pathCoefficient = 1\n",
    "pathNumber = 1000\n",
    "baseChannelCoefficient = np.arange(1, pathNumber + 1)\n",
    "pathRange = np.arange(1, pathNumber + 1)\n",
    "fileName = 'channelc_min_' + str(beamWidth) + '.csv'"
   ]
  },
  {
   "cell_type": "code",
   "execution_count": 4,
   "metadata": {},
   "outputs": [
    {
     "name": "stdout",
     "output_type": "stream",
     "text": [
      "channelc_max_10.csv  channelc_max_5.csv   channelc_min_5.csv\r\n",
      "channelc_max_20.csv  channelc_min_10.csv  pathGeneratorMax.ipynb\r\n",
      "channelc_max_30.csv  channelc_min_30.csv  pathGeneratorMin.ipynb\r\n"
     ]
    }
   ],
   "source": [
    "ls"
   ]
  },
  {
   "cell_type": "markdown",
   "metadata": {},
   "source": [
    "## Generate Paths"
   ]
  },
  {
   "cell_type": "code",
   "execution_count": 5,
   "metadata": {},
   "outputs": [],
   "source": [
    "if __name__ == '__main__':\n",
    "    sc.stop()\n",
    "    \n",
    "    conf = SparkConf().setAppName('generatorMin').setMaster('local[*]')\n",
    "    sc = SparkContext(conf=conf)\n",
    "\n",
    "    channel = baseChannelCoefficient\n",
    "    channel = sc.parallelize(channel)\n",
    "\n",
    "    channel = channel.map(lambda ch: generateAngleMin(ch, beamWidth))\n",
    "    channel = channel.map(lambda ch: generateChannelCoefficient(len(ch), pathCoefficient, ch))"
   ]
  },
  {
   "cell_type": "code",
   "execution_count": 6,
   "metadata": {
    "scrolled": true
   },
   "outputs": [
    {
     "data": {
      "text/plain": [
       "[1,\n",
       " 0.00015461554767859376,\n",
       " 1.136717694500316,\n",
       " 0.23239015885465264,\n",
       " 0.9999448892604175]"
      ]
     },
     "execution_count": 6,
     "metadata": {},
     "output_type": "execute_result"
    }
   ],
   "source": [
    "channel.take(5)"
   ]
  },
  {
   "cell_type": "code",
   "execution_count": 7,
   "metadata": {},
   "outputs": [],
   "source": [
    "# channelData is the channel coefficient value for each N paths\n",
    "channelData = channel.collect()"
   ]
  },
  {
   "cell_type": "markdown",
   "metadata": {},
   "source": [
    "## Exporting Paths to .csv File"
   ]
  },
  {
   "cell_type": "code",
   "execution_count": 8,
   "metadata": {},
   "outputs": [],
   "source": [
    "np.savetxt(fileName, channelData, delimiter=';', fmt='%f')"
   ]
  },
  {
   "cell_type": "code",
   "execution_count": 9,
   "metadata": {},
   "outputs": [],
   "source": [
    "# it is the previously saved channelData\n",
    "importedData = np.loadtxt(fileName)"
   ]
  },
  {
   "cell_type": "code",
   "execution_count": 10,
   "metadata": {},
   "outputs": [
    {
     "data": {
      "text/plain": [
       "array([  1.      ,   0.000155,   1.136718,   0.23239 ,   0.999945,\n",
       "         0.076187,   1.123433,   0.519247,   1.100777,   0.166601,\n",
       "         1.04515 ,   0.106585,   1.476525,   0.78715 ,   1.219027,\n",
       "         1.00896 ,   1.021018,   0.001956,   1.134614,   0.012952,\n",
       "         4.100563,   0.055558,   1.525953,   0.081462,   1.086483,\n",
       "         0.704947,   1.264108,   0.091389,   2.996626,   0.115187,\n",
       "         0.909136,   0.010595,   1.822268,   0.026555,   2.324737,\n",
       "         1.197108,   0.9662  ,   0.552246,   1.450433,   0.372195,\n",
       "         1.138512,   0.564397,   1.005808,   0.827705,   1.599189,\n",
       "         0.958816,   1.231331,   0.008728,   1.167797,   1.8     ,\n",
       "         2.944835,   0.635288,   2.114033,   2.408986,   1.091847,\n",
       "         0.004067,   2.770019,   0.003742,   7.043554,   0.039442,\n",
       "         1.650763,   0.821194,   1.291392,   0.061825,   0.990672,\n",
       "         0.025758,   0.82057 ,   0.700337,   1.369598,   3.843934,\n",
       "         1.024541,   0.199466,   1.777635,   0.026668,   2.032667,\n",
       "         0.79999 ,   1.051953,   0.542341,   3.233915,   0.186165,\n",
       "         1.293717,   1.555101,   1.994741,   0.735687,   3.909574,\n",
       "         1.074979,   1.134789,   0.692108,   1.518704,   1.350382,\n",
       "         0.953867,   1.146368,   3.915488,   1.247831,   2.388734,\n",
       "         4.409367,   1.390891,   0.369672,   1.789136,   1.811641,\n",
       "         2.90835 ,   1.868131,   6.882533,   2.767835,   1.047811,\n",
       "         4.834394,   1.837084,   0.181579,   1.566253,   0.382097,\n",
       "         3.199337,   0.012875,   1.170454,   9.834119,   0.887995,\n",
       "        11.973866,   0.992341,   1.275419,   3.140718,   9.635846,\n",
       "         3.22569 ,   1.456076,  10.669779,   0.014582,   1.467625,\n",
       "         0.201529,   1.293385,   2.593319,   0.911408,   0.101225,\n",
       "         1.087563,   0.031695,   3.547154,  12.390434,   0.968055,\n",
       "         0.414116,   1.049549,  11.219952,   1.746891,  14.980088,\n",
       "         0.376742,   3.222295,   1.030795,   0.450623,   6.707032,\n",
       "        24.616036,   2.139787,   0.099734,  11.633292,   7.086526,\n",
       "         0.964534,   8.913725,  11.384903,   4.030217,   0.772543,\n",
       "         0.888797,   0.981719,   1.069514,   1.68617 ,   1.166208,\n",
       "         4.031155,   0.10947 ,   1.25376 ,   0.107751,   2.029281,\n",
       "         7.955687,   1.669453,   2.564488,   2.290302,   2.720024,\n",
       "        16.786302,   2.486109,   1.844685,   0.604995,  13.463639,\n",
       "         2.71462 ,   1.890831,   9.878008,   4.704258,   0.772058,\n",
       "         5.709722,   5.696254,   5.990049,   0.201035,   1.556927,\n",
       "         0.086217,   2.196587,   0.422127,   7.526607,   1.550838,\n",
       "         3.543812,   3.145143,   3.994252,   3.26597 ,   1.363689,\n",
       "        11.977324,   1.042002,  27.432109,   0.820107,   0.333736,\n",
       "         1.516061,   0.900514,   1.937416,   0.023331,   3.364374,\n",
       "         2.878887,  10.55015 ,  17.811386,   1.715422,   0.677676,\n",
       "         1.299715,   0.620038,   9.69401 ,  22.448831,  16.733653,\n",
       "         6.069025,   0.994359,   1.241452,   1.900088,   9.376959,\n",
       "         4.798689,   1.259724,   1.156706,   3.975383,  56.087025,\n",
       "         1.308032,   4.529674,   0.295174,   1.251765,   0.270525,\n",
       "         2.150454,   9.357415,   6.185035,  10.887955,   4.494469,\n",
       "         4.65641 ,   4.346574,   6.019289,  20.760266,   0.115606,\n",
       "         1.701592,   4.197829,   1.09011 ,   0.732565,   2.653869,\n",
       "         7.690068,   1.60033 ,   0.721643,   5.760686,   1.471958,\n",
       "         0.872292,   4.170622,   7.056063,   0.976487,   1.296921,\n",
       "        29.923327,   5.972667,   0.437577,   1.873203,  10.558951,\n",
       "         2.141301,   0.062725,   5.920832,   0.188827,   5.281492,\n",
       "         2.96795 ,   0.772753,   3.480917,   1.251004,   1.960163,\n",
       "         1.133187,   3.930061,   1.517952,   0.429232,   9.178616,\n",
       "        28.650822,  12.218126,  36.773389,  15.294343,   1.56386 ,\n",
       "         8.804134,   0.251984,   0.574153,   5.517631,   0.870525,\n",
       "         6.625263,  30.957488,   2.062023,   8.097128,  13.444849,\n",
       "         7.56401 ,   1.264124,  19.002851,   0.930483,   1.041457,\n",
       "         0.137837,   1.246564,   1.146236,   0.993594,   2.712098,\n",
       "         1.066321,   0.102314,  31.128329,   0.00182 ,   1.440681,\n",
       "        15.251927,   3.610383,   0.075179,   8.696223,  30.771574,\n",
       "        12.837966,   0.721661,   0.858993,   5.657909,   6.235169,\n",
       "         1.367271,  14.227016,   7.901622,  43.527939,   0.051641,\n",
       "         2.230711,   2.991477,   0.793231,  19.212013,  50.737523,\n",
       "         0.024752,   1.971763,   0.607367,  19.478655,  56.437016,\n",
       "         7.78739 ,   4.53821 ,   0.954857,   0.858839,   4.895008,\n",
       "         2.715085,  37.763717,   0.229608,   3.084605,   2.188968,\n",
       "         3.058248,  10.138305,  13.921685,   0.779941,   1.844834,\n",
       "         6.635315,   3.666976,   0.967247,   4.910422,   6.335573,\n",
       "        19.032047,   0.656002,   8.268752,   4.666943,  10.711522,\n",
       "         1.326398,   1.097514,  19.361899,   0.798056,   2.726109,\n",
       "         2.777709,   0.157097,   5.977875,   9.020161,  13.934866,\n",
       "         0.060395,   2.958274,   3.401407,   7.921665,  13.504472,\n",
       "         2.60293 ,   5.688784,   9.411249,   4.91006 ,   1.253374,\n",
       "        20.464305,   1.797448,   5.209016,   4.163802,  11.626539,\n",
       "         1.676433,   4.794594,  19.346056,   2.821263,   2.12431 ,\n",
       "         0.115325,   4.737804,   0.123726,   5.626892,   5.012801,\n",
       "         3.280028,   4.244938,  12.07658 ,   8.904809,   0.624638,\n",
       "         1.897145,  16.334655,   3.712167,  13.34522 ,  50.731361,\n",
       "         1.430819,  12.891317,   1.272581,   0.148301,  16.352254,\n",
       "         1.335508,  23.257703,   0.356935,   4.847287,   0.316394,\n",
       "        21.108601,  78.39964 ,  12.654657,   0.209736,   6.430283,\n",
       "        23.752369,   2.024333,  11.264001,   2.487059,   3.585953,\n",
       "        32.293674,   8.668471,  46.690872,  22.940879,   3.625965,\n",
       "        15.574124,   1.415657,   0.839894,   0.857398,   4.123352,\n",
       "         8.03369 ,   2.103007,   4.737   ,   1.010965,  29.027773,\n",
       "         2.375929,   1.157248,  24.826699,   8.556424,   6.076308,\n",
       "        36.643349,   8.216888,  39.133794,   0.312601,  75.413809,\n",
       "         2.179613,   7.760599,  22.95942 ,   3.225959,   9.159309,\n",
       "        34.179415,   0.375547,   2.947336,   0.266879,  14.844482,\n",
       "         0.1988  ,   3.393246,   0.431654,   4.335463,   0.297667,\n",
       "        76.316492,  11.909019,   5.085703,  10.673446,   2.129582,\n",
       "         0.370389,  11.424253,   0.161356,  22.504466,   2.751258,\n",
       "        34.190976,   1.23453 ,   4.299668,  41.789371,  42.932755,\n",
       "         6.016769,   4.534717,   3.759161,   0.437389,  30.183992,\n",
       "         5.603004,   0.716714,   3.936951,   7.119814,   4.549086,\n",
       "         8.851876,   2.856251,   1.089398,  22.123354,  50.886047,\n",
       "        21.772038,  24.327912,  23.733321,  39.024911,   1.518945,\n",
       "         6.658992,  61.280732,   1.130361,  12.333476,   9.854656,\n",
       "         2.91709 ,   8.734084,  24.813336,   0.338484,  11.42718 ,\n",
       "         0.184673,  10.780283,   1.579577,   1.377171,   1.271958,\n",
       "         1.017704,   5.516423,  13.411047,   4.761098,  11.325512,\n",
       "         0.372621,   7.982578,   9.213403,  16.722949,  27.417043,\n",
       "         2.52672 ,  11.178625,  17.67298 ,   8.542267,   3.76237 ,\n",
       "         0.166057,  11.82101 ,   2.164099,  20.27041 ,   1.995704,\n",
       "        37.346535,   5.82513 ,  18.117287,   0.755356,   2.889653,\n",
       "         7.730006,   6.856677,  58.807888,   3.29757 ,   0.944543,\n",
       "         5.201504,  30.329805,   2.30726 ,  70.917643,   3.065289,\n",
       "         0.172485,   1.050493,   0.567897,  48.349357,   1.035355,\n",
       "         3.026327,  18.496499,   8.715316,   1.436348,   4.234025,\n",
       "         8.043505,   3.275855,   5.787635,  11.751085,   0.270432,\n",
       "         0.884376,  22.854698,   3.194713,   4.266187,   1.241352,\n",
       "        23.556749,   1.05365 ,   5.582121,  42.859951,   8.32273 ,\n",
       "         7.394644,  12.486679,   5.392156,   9.691891,   2.273494,\n",
       "         8.918354,   3.831051,   5.172979,   1.247121,   1.746232,\n",
       "         4.990766,   0.745488,   4.320722,   7.743615,  38.347935,\n",
       "         0.232826,   4.412758,   7.031827,  34.030224,  19.55478 ,\n",
       "        29.228111,   0.174424,  10.716021,   7.335328,  16.473671,\n",
       "         3.033953,  23.906936,  42.135678,   1.268411,   0.335281,\n",
       "        29.537718,  39.402113,   4.171209,  37.62957 ,   2.343682,\n",
       "        52.257588,   7.062649,  10.212955,   1.988293,   5.984146,\n",
       "        57.919513,   1.83211 ,   2.710956,  42.159627,   0.879366,\n",
       "        46.613845,   1.739089,  45.790083,  10.26073 ,   9.915234,\n",
       "        21.106267,  13.714469,   3.279138,   0.697309,  48.645286,\n",
       "         8.796658,   2.362794,  28.361565,   6.416414,   0.235396,\n",
       "         7.575528,  11.126864,   4.116804,   2.795764,  13.730039,\n",
       "         0.377549,   9.743113,  17.725865,   1.106908,  22.498066,\n",
       "         1.473972,  30.673574,  28.117102,   1.959654,   4.334416,\n",
       "         1.063282,   2.255527,   0.111029,   1.058604,   0.027739,\n",
       "        23.780295,   6.429313,   6.188972, 137.24028 ,  57.964944,\n",
       "         6.737662,   7.776268,   1.499498,  39.470729,   0.596027,\n",
       "        43.170296,   2.690784,  11.286681,   3.881502,   2.384779,\n",
       "         5.258206,   0.703404,  13.87254 ,  15.982537,  31.236239,\n",
       "         8.639397,   0.434367,  37.613722,  54.940957,  31.976727,\n",
       "         7.057815,   6.192195,   9.031861,   7.355495,  25.415222,\n",
       "        11.915879,   0.215913,  12.054694,  19.71087 ,   1.230659,\n",
       "         1.639493,   1.327291,  10.168567,   1.080228,   8.531731,\n",
       "         2.456042,   9.873362,  11.672923,   0.939886,  20.775322,\n",
       "         0.07225 ,  27.7554  ,  50.613946,  23.356984,   9.714821,\n",
       "         1.585503,   2.936814,  11.010083,   0.650739,   8.267975,\n",
       "        19.290823,   7.333005,  25.476053,   0.795623,   0.1737  ,\n",
       "        41.344167,  22.816947,  30.045041,   5.691398,   0.581248,\n",
       "         4.338365,  18.345278,   0.294596,   4.730283,  18.206914,\n",
       "         2.166087,  43.79574 ,   0.435816,  38.289543,  45.92635 ,\n",
       "         4.5416  ,   8.214064,   4.893107,   1.065271,  38.840131,\n",
       "         5.754062,  15.739732,   3.451076,   0.880553,   2.81563 ,\n",
       "        12.094727,  21.667181,   0.141348,  59.076759,   6.959445,\n",
       "         0.342077,   0.196275,  14.260755,   8.892118,  34.277767,\n",
       "         0.147884,  14.877313,   4.079386,   0.773677, 156.481059,\n",
       "         1.813372,  34.852463,   0.849838,   7.741187,   8.367955,\n",
       "         0.238335,   1.402961,   7.179248,  58.815976,  44.68255 ,\n",
       "         3.061671,   3.663434,  66.849735,  43.268043,  49.557985,\n",
       "         4.233253,   4.579855,   0.186296,   3.254487,  34.500413,\n",
       "        41.021058,   5.631269,   5.836986,   2.009207,  10.920162,\n",
       "        99.232751,   4.089725,   3.188987,  19.68474 ,  47.698813,\n",
       "        22.87159 ,  10.88372 ,   4.344432,  25.632165,   3.480178,\n",
       "         0.171495,   2.109589,  29.746174,  26.718265,  18.716473,\n",
       "        11.279973,   0.116161,  23.424593,   0.371964,   7.591286,\n",
       "        50.156315,   4.467304,  96.361634,  25.436514,  21.843977,\n",
       "        19.004118,   0.78267 ,   7.415115,   0.345243,   2.085047,\n",
       "        11.437458,   2.635001,   9.216017,  35.238086,   2.628795,\n",
       "        36.228625,  45.764679,  25.244246,   4.743975,  21.007092,\n",
       "        53.977223,   3.25181 ,  30.024732,  31.050194,   0.368277,\n",
       "         8.028988,   0.031392,  66.35296 ,  14.352751,   1.436925,\n",
       "         2.967518,   2.483198,   6.580526,   0.205436,   0.128072,\n",
       "        41.239854,  68.66524 ,  10.360649,  41.382332,  53.462192,\n",
       "        55.161215,   3.303927,   0.644434, 130.493899,   1.437455,\n",
       "        26.681624,  12.93067 ,   5.81805 ,  68.624549,  16.032184,\n",
       "         4.040011,   0.952817,   9.788226,  26.711385,   2.64899 ,\n",
       "         4.759641,  97.556832,   1.248429,   8.200946,   5.096059,\n",
       "         1.498494,   8.918716,   0.495941,  10.585593,  51.414832,\n",
       "         8.203943,  26.420648,   8.580302,  31.887128,  20.802912,\n",
       "        32.03036 ,  12.883258,   0.162641,   2.659592,   0.055567,\n",
       "         3.022144,  68.171051,   3.250471,   1.464043,  29.530351,\n",
       "        72.810697,   5.976898,  15.482315,   4.743112,  11.662741,\n",
       "         1.224252,   1.164757,   2.233156,   9.39521 ,   2.055537,\n",
       "        12.579555,   2.196184,   5.050651,   3.230555,  20.668351,\n",
       "         4.929732,  51.004709,  10.210405,   5.98142 ,  15.880619,\n",
       "        29.804924,   1.564278,   1.847385,   2.880167,  20.821249,\n",
       "        10.678865,   4.830919,   1.118326,  13.996291,  16.534779,\n",
       "         8.584471,  32.571997,   9.736735,  12.321498,   8.089443,\n",
       "        20.376028,  70.05364 ,   5.345727,   0.072277,   6.18649 ,\n",
       "         0.013712,  30.133392,   0.087402,   3.283681, 113.239352,\n",
       "         3.015377,  18.088404,  23.920349,   5.060162,  51.790641,\n",
       "         1.174803,   7.171822,  82.764307,   6.877585,   1.406217,\n",
       "       132.525305,  11.619883,  61.046046,   1.622879,   5.814838,\n",
       "        59.3207  ,  10.743232,   4.146867,   4.246928,  51.72145 ,\n",
       "        49.874256,  28.777861,  10.477173,   4.753406,   6.358439,\n",
       "        15.791174,  30.195119,   3.566412,  27.06896 ,  14.815723,\n",
       "        54.992382,  34.404299,  43.741639,   0.62451 ,   4.241442,\n",
       "         1.073412,  38.759073,  21.679968,   8.739156,  89.923712,\n",
       "         1.541467,  31.616469,  28.910971,  36.785237,   8.46701 ,\n",
       "         3.301224,  10.411706,   5.654588,  91.217617,   9.625796,\n",
       "         5.511244,  11.941228,  34.453801,   2.31269 ,  55.814783,\n",
       "         2.434922,   2.128228,  25.031192,   3.665379,   1.722253,\n",
       "        16.719773,  48.545656,   4.003237,  20.455625,   1.959415,\n",
       "        12.246484,   6.495812,  89.07318 ,  25.08294 ,   0.320189,\n",
       "       105.231887,   8.590689,  28.515122,   2.428881,  41.909457,\n",
       "       107.896398,   2.089696,  12.302816,  27.536634,   2.864446])"
      ]
     },
     "execution_count": 10,
     "metadata": {},
     "output_type": "execute_result"
    }
   ],
   "source": [
    "importedData"
   ]
  },
  {
   "cell_type": "markdown",
   "metadata": {},
   "source": [
    "## Plot Test"
   ]
  },
  {
   "cell_type": "code",
   "execution_count": 14,
   "metadata": {},
   "outputs": [
    {
     "name": "stdout",
     "output_type": "stream",
     "text": [
      "channelc_max_10.csv  channelc_min_10.csv  pathGeneratorMax.ipynb\r\n",
      "channelc_max_20.csv  channelc_min_20.csv  pathGeneratorMin.ipynb\r\n",
      "channelc_max_30.csv  channelc_min_30.csv\r\n",
      "channelc_max_5.csv   channelc_min_5.csv\r\n"
     ]
    }
   ],
   "source": [
    "ls"
   ]
  },
  {
   "cell_type": "code",
   "execution_count": 17,
   "metadata": {},
   "outputs": [],
   "source": [
    "y5 = np.loadtxt('channelc_min_5.csv')\n",
    "y10 = np.loadtxt('channelc_min_10.csv')\n",
    "y20 = np.loadtxt('channelc_min_20.csv')\n",
    "y30 = np.loadtxt('channelc_min_30.csv')"
   ]
  },
  {
   "cell_type": "code",
   "execution_count": 18,
   "metadata": {
    "collapsed": true
   },
   "outputs": [
    {
     "data": {
      "image/png": "[encoded data removed]",
      "text/plain": [
       "<Figure size 720x360 with 4 Axes>"
      ]
     },
     "metadata": {
      "needs_background": "light"
     },
     "output_type": "display_data"
    }
   ],
   "source": [
    "fig = plt.figure(figsize=[10, 5])\n",
    "paths = np.arange(1, pathNumber + 1)\n",
    "\n",
    "ax = fig.add_subplot(221)\n",
    "# ax.plot(baseChannelCoefficient, y5)\n",
    "sns.lineplot(x=paths, y=y5)\n",
    "plt.ylim(0, 300)\n",
    "\n",
    "bx = fig.add_subplot(222)\n",
    "# bx.plot(baseChannelCoefficient, y30)\n",
    "sns.lineplot(x=paths, y=y10)\n",
    "plt.ylim(0, 300)\n",
    "\n",
    "cx = fig.add_subplot(223)\n",
    "# bx.plot(baseChannelCoefficient, y30)\n",
    "sns.lineplot(x=paths, y=y20)\n",
    "plt.ylim(0, 300)\n",
    "\n",
    "dx = fig.add_subplot(224)\n",
    "# bx.plot(baseChannelCoefficient, y30)\n",
    "sns.lineplot(x=paths, y=y30)\n",
    "plt.ylim(0, 300)\n",
    "\n",
    "plt.show()"
   ]
  },
  {
   "cell_type": "code",
   "execution_count": 34,
   "metadata": {},
   "outputs": [
    {
     "data": {
      "image/png": "[encoded data removed]",
      "text/plain": [
       "<Figure size 720x360 with 1 Axes>"
      ]
     },
     "metadata": {
      "needs_background": "light"
     },
     "output_type": "display_data"
    }
   ],
   "source": [
    "fig = plt.figure(figsize=[10, 5])\n",
    "paths = np.arange(1, pathNumber + 1)\n",
    "\n",
    "sns.scatterplot(x=paths, y=y30, linewidth=0)\n",
    "sns.scatterplot(x=paths, y=y20, linewidth=0)\n",
    "sns.scatterplot(x=paths, y=y10, linewidth=0)\n",
    "sns.scatterplot(x=paths, y=y5, linewidth=0)\n",
    "\n",
    "plt.legend(['30°','20°','10°','5°'], ncol=2, loc='upper left');\n",
    "plt.show()"
   ]
  }
 ],
 "metadata": {
  "kernelspec": {
   "display_name": "Python 3",
   "language": "python",
   "name": "python3"
  },
  "language_info": {
   "codemirror_mode": {
    "name": "ipython",
    "version": 3
   },
   "file_extension": ".py",
   "mimetype": "text/x-python",
   "name": "python",
   "nbconvert_exporter": "python",
   "pygments_lexer": "ipython3",
   "version": "3.6.7"
  }
 },
 "nbformat": 4,
 "nbformat_minor": 2
}
