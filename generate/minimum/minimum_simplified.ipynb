{
 "cells": [
  {
   "cell_type": "code",
   "execution_count": 10,
   "metadata": {},
   "outputs": [],
   "source": [
    "import pandas as pd\n",
    "import numpy as np\n",
    "np.set_printoptions(suppress=True)"
   ]
  },
  {
   "cell_type": "markdown",
   "metadata": {},
   "source": [
    "$|h|^2 = a^2[N+2\\left\\lfloor{-\\frac{N}{2}}\\right\\rfloor]$"
   ]
  },
  {
   "cell_type": "code",
   "execution_count": 59,
   "metadata": {},
   "outputs": [],
   "source": [
    "class Path():\n",
    "    '''Defining the domain parameters for path\n",
    "    \n",
    "    Parameters\n",
    "    ----------\n",
    "    start: int, optional (default = 1)\n",
    "        Starting number for generating the list of paths.\n",
    "    \n",
    "    end: int, optional (default = 1000)\n",
    "        The number of paths given. Perhaps, simply we can name it as the ending number for paths iteration.\n",
    "    \n",
    "    space: int, optional (default = 1)\n",
    "        Spacing between paths when they are iterated.\n",
    "\n",
    "    coefficient: int, optional (default = 1)\n",
    "        A complex coefficient modelling pathloss, shadowing, and phase terms for each path. Notated by 'a'.\n",
    "        \n",
    "    paths: arr\n",
    "        A list of paths used for iterations.\n",
    "    '''\n",
    "\n",
    "    def __init__(self, start=1, end=1000, space=1, coefficient=1, **kwargs):\n",
    "        self.start = start\n",
    "        self.end = end\n",
    "        self.space = space\n",
    "        self.coefficient = coefficient\n",
    "        self.paths = np.arange(start, end + 1, space)"
   ]
  },
  {
   "cell_type": "code",
   "execution_count": 90,
   "metadata": {},
   "outputs": [
    {
     "data": {
      "text/plain": [
       "array([  50,  100,  150,  200,  250,  300,  350,  400,  450,  500,  550,\n",
       "        600,  650,  700,  750,  800,  850,  900,  950, 1000])"
      ]
     },
     "execution_count": 90,
     "metadata": {},
     "output_type": "execute_result"
    }
   ],
   "source": [
    "path = Path(start=50, end=1000, space=50, coefficient=1)\n",
    "path.paths"
   ]
  },
  {
   "cell_type": "code",
   "execution_count": 144,
   "metadata": {
    "scrolled": true
   },
   "outputs": [],
   "source": [
    "def generateChannelCoefficient(pathList, pathCoefficient):\n",
    "    channelCoefficientList = np.array([])\n",
    "    for path_ in pathList:\n",
    "        singleChannelCoefficient = np.square(pathCoefficient) * (\n",
    "            path_ + (-2 * np.floor(path_ / 2)))\n",
    "        channelCoefficientList = np.append(channelCoefficientList, singleChannelCoefficient)\n",
    "    return channelCoefficientList"
   ]
  },
  {
   "cell_type": "code",
   "execution_count": 145,
   "metadata": {
    "scrolled": true
   },
   "outputs": [],
   "source": [
    "channelCoefficient = generateChannelCoefficient(pathList=path.paths, pathCoefficient=path.coefficient)"
   ]
  },
  {
   "cell_type": "code",
   "execution_count": 146,
   "metadata": {},
   "outputs": [
    {
     "data": {
      "text/plain": [
       "array([0., 0., 0., 0., 0., 0., 0., 0., 0., 0., 0., 0., 0., 0., 0., 0., 0.,\n",
       "       0., 0., 0.])"
      ]
     },
     "execution_count": 146,
     "metadata": {},
     "output_type": "execute_result"
    }
   ],
   "source": [
    "channelCoefficient"
   ]
  },
  {
   "cell_type": "code",
   "execution_count": 123,
   "metadata": {},
   "outputs": [],
   "source": [
    "# np.savetxt('../dataset/1000_iterations/ch_min_simplified.csv', channelCoefficient, fmt='%10.5f')"
   ]
  }
 ],
 "metadata": {
  "kernelspec": {
   "display_name": "Python 3",
   "language": "python",
   "name": "python3"
  },
  "language_info": {
   "codemirror_mode": {
    "name": "ipython",
    "version": 3
   },
   "file_extension": ".py",
   "mimetype": "text/x-python",
   "name": "python",
   "nbconvert_exporter": "python",
   "pygments_lexer": "ipython3",
   "version": "3.6.7"
  }
 },
 "nbformat": 4,
 "nbformat_minor": 2
}
