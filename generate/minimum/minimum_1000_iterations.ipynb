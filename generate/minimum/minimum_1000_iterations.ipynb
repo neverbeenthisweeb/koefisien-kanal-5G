{
 "cells": [
  {
   "cell_type": "code",
   "execution_count": 1,
   "metadata": {},
   "outputs": [],
   "source": [
    "import numpy as np\n",
    "np.set_printoptions(suppress=True)\n",
    "import pandas as pd\n",
    "import matplotlib.pyplot as plt\n",
    "plt.style.use('ggplot')\n",
    "from tqdm import tqdm_notebook\n",
    "from statistics import mean\n",
    "import random"
   ]
  },
  {
   "cell_type": "code",
   "execution_count": 2,
   "metadata": {},
   "outputs": [],
   "source": [
    "def generateAngleMinimum(angleNumber, beamWidth):\n",
    "    angles = np.array([])\n",
    "    lowerBound = -beamWidth / 2\n",
    "    upperBound = beamWidth\n",
    "    for i in np.arange(1, angleNumber + 1):\n",
    "        angleToAdd = random.uniform(lowerBound, upperBound)\n",
    "        if i % 2 == 0:\n",
    "            angles = np.append(angles, angleToAdd)\n",
    "        else:\n",
    "            angles = np.append(angles, angleToAdd + 180)\n",
    "    return angles\n",
    "\n",
    "\n",
    "def angularValue(angleArray):\n",
    "    sumOfCos = 0\n",
    "    index = 1\n",
    "    for i in angleArray:\n",
    "        for j in angleArray[index:]:\n",
    "            sumOfCos += np.cos(np.deg2rad(i - j))\n",
    "        index += 1\n",
    "    return sumOfCos\n",
    "\n",
    "\n",
    "def generateChannelCoefficient(pathNumber, pathCoefficient, angleArray):\n",
    "    channelCoeff = np.square(pathCoefficient) * (\n",
    "        pathNumber + (2 * angularValue(angleArray)))\n",
    "    return channelCoeff"
   ]
  },
  {
   "cell_type": "code",
   "execution_count": 3,
   "metadata": {},
   "outputs": [],
   "source": [
    "'''List of used var.\n",
    "\n",
    "Keywords var:\n",
    "beamwidth [Hz]              --\n",
    "iteration                   --\n",
    "pathCoefficient (a)         --\n",
    "pathNumber (N)              --\n",
    "pathStart                   -- Path where iteration starts\n",
    "pathSpacing                 -- Spacing between iterated path\n",
    "currentIteration            -- Channel coefficient of a path for current iteration\n",
    "channelCoefficientIterations -- A group of channel coefficient iterations for each path\n",
    "channelCoefficientAverage   -- The average of 'channelCoefficientIterations' for each path\n",
    "fileName                    --\n",
    "'''\n",
    "\n",
    "beamWidth = 5\n",
    "iteration = 1000\n",
    "pathCoefficient = 1\n",
    "pathNumber = 1000\n",
    "pathStart = 50\n",
    "pathSpacing = 50\n",
    "currentIteration = []\n",
    "channelCoefficientIterations = []\n",
    "channelCoefficientAverage = []\n",
    "# fileName = 'channelc_min_avg' + str(beamWidth) + '.csv'"
   ]
  },
  {
   "cell_type": "code",
   "execution_count": 5,
   "metadata": {},
   "outputs": [
    {
     "name": "stdout",
     "output_type": "stream",
     "text": [
      "Starting iterations!\n",
      "Path number: 200\n",
      "Iteration: 1000\n",
      "Beam width: 5\n"
     ]
    },
    {
     "data": {
      "application/vnd.jupyter.widget-view+json": {
       "model_id": "5b14f2bd8ae04fa99d6efad36ea41233",
       "version_major": 2,
       "version_minor": 0
      },
      "text/plain": [
       "HBox(children=(IntProgress(value=0, max=4), HTML(value='')))"
      ]
     },
     "metadata": {},
     "output_type": "display_data"
    },
    {
     "name": "stdout",
     "output_type": "stream",
     "text": [
      "\n"
     ]
    },
    {
     "ename": "KeyboardInterrupt",
     "evalue": "",
     "output_type": "error",
     "traceback": [
      "\u001b[0;31m---------------------------------------------------------------------------\u001b[0m",
      "\u001b[0;31mKeyboardInterrupt\u001b[0m                         Traceback (most recent call last)",
      "\u001b[0;32m<ipython-input-5-56330b6af08e>\u001b[0m in \u001b[0;36m<module>\u001b[0;34m\u001b[0m\n\u001b[1;32m      5\u001b[0m     \u001b[0mcurrentIteration\u001b[0m \u001b[0;34m=\u001b[0m \u001b[0;34m[\u001b[0m\u001b[0;34m]\u001b[0m\u001b[0;34m\u001b[0m\u001b[0;34m\u001b[0m\u001b[0m\n\u001b[1;32m      6\u001b[0m     \u001b[0;32mfor\u001b[0m \u001b[0mitr\u001b[0m \u001b[0;32min\u001b[0m \u001b[0mnp\u001b[0m\u001b[0;34m.\u001b[0m\u001b[0marange\u001b[0m\u001b[0;34m(\u001b[0m\u001b[0miteration\u001b[0m\u001b[0;34m)\u001b[0m\u001b[0;34m:\u001b[0m\u001b[0;34m\u001b[0m\u001b[0;34m\u001b[0m\u001b[0m\n\u001b[0;32m----> 7\u001b[0;31m         \u001b[0mangles\u001b[0m \u001b[0;34m=\u001b[0m \u001b[0mgenerateAngleMinimum\u001b[0m\u001b[0;34m(\u001b[0m\u001b[0mpath\u001b[0m\u001b[0;34m,\u001b[0m \u001b[0mbeamWidth\u001b[0m\u001b[0;34m)\u001b[0m\u001b[0;34m\u001b[0m\u001b[0;34m\u001b[0m\u001b[0m\n\u001b[0m\u001b[1;32m      8\u001b[0m         channelCoefficient = generateChannelCoefficient(\n\u001b[1;32m      9\u001b[0m             path, pathCoefficient, angles)\n",
      "\u001b[0;32m<ipython-input-2-c78181dafe97>\u001b[0m in \u001b[0;36mgenerateAngleMinimum\u001b[0;34m(angleNumber, beamWidth)\u001b[0m\n\u001b[1;32m      8\u001b[0m             \u001b[0mangles\u001b[0m \u001b[0;34m=\u001b[0m \u001b[0mnp\u001b[0m\u001b[0;34m.\u001b[0m\u001b[0mappend\u001b[0m\u001b[0;34m(\u001b[0m\u001b[0mangles\u001b[0m\u001b[0;34m,\u001b[0m \u001b[0mangleToAdd\u001b[0m\u001b[0;34m)\u001b[0m\u001b[0;34m\u001b[0m\u001b[0;34m\u001b[0m\u001b[0m\n\u001b[1;32m      9\u001b[0m         \u001b[0;32melse\u001b[0m\u001b[0;34m:\u001b[0m\u001b[0;34m\u001b[0m\u001b[0;34m\u001b[0m\u001b[0m\n\u001b[0;32m---> 10\u001b[0;31m             \u001b[0mangles\u001b[0m \u001b[0;34m=\u001b[0m \u001b[0mnp\u001b[0m\u001b[0;34m.\u001b[0m\u001b[0mappend\u001b[0m\u001b[0;34m(\u001b[0m\u001b[0mangles\u001b[0m\u001b[0;34m,\u001b[0m \u001b[0mangleToAdd\u001b[0m \u001b[0;34m+\u001b[0m \u001b[0;36m180\u001b[0m\u001b[0;34m)\u001b[0m\u001b[0;34m\u001b[0m\u001b[0;34m\u001b[0m\u001b[0m\n\u001b[0m\u001b[1;32m     11\u001b[0m     \u001b[0;32mreturn\u001b[0m \u001b[0mangles\u001b[0m\u001b[0;34m\u001b[0m\u001b[0;34m\u001b[0m\u001b[0m\n\u001b[1;32m     12\u001b[0m \u001b[0;34m\u001b[0m\u001b[0m\n",
      "\u001b[0;32m~/.local/lib/python3.6/site-packages/numpy/lib/function_base.py\u001b[0m in \u001b[0;36mappend\u001b[0;34m(arr, values, axis)\u001b[0m\n\u001b[1;32m   4692\u001b[0m         \u001b[0mvalues\u001b[0m \u001b[0;34m=\u001b[0m \u001b[0mravel\u001b[0m\u001b[0;34m(\u001b[0m\u001b[0mvalues\u001b[0m\u001b[0;34m)\u001b[0m\u001b[0;34m\u001b[0m\u001b[0;34m\u001b[0m\u001b[0m\n\u001b[1;32m   4693\u001b[0m         \u001b[0maxis\u001b[0m \u001b[0;34m=\u001b[0m \u001b[0marr\u001b[0m\u001b[0;34m.\u001b[0m\u001b[0mndim\u001b[0m\u001b[0;34m-\u001b[0m\u001b[0;36m1\u001b[0m\u001b[0;34m\u001b[0m\u001b[0;34m\u001b[0m\u001b[0m\n\u001b[0;32m-> 4694\u001b[0;31m     \u001b[0;32mreturn\u001b[0m \u001b[0mconcatenate\u001b[0m\u001b[0;34m(\u001b[0m\u001b[0;34m(\u001b[0m\u001b[0marr\u001b[0m\u001b[0;34m,\u001b[0m \u001b[0mvalues\u001b[0m\u001b[0;34m)\u001b[0m\u001b[0;34m,\u001b[0m \u001b[0maxis\u001b[0m\u001b[0;34m=\u001b[0m\u001b[0maxis\u001b[0m\u001b[0;34m)\u001b[0m\u001b[0;34m\u001b[0m\u001b[0;34m\u001b[0m\u001b[0m\n\u001b[0m\u001b[1;32m   4695\u001b[0m \u001b[0;34m\u001b[0m\u001b[0m\n\u001b[1;32m   4696\u001b[0m \u001b[0;34m\u001b[0m\u001b[0m\n",
      "\u001b[0;31mKeyboardInterrupt\u001b[0m: "
     ]
    }
   ],
   "source": [
    "print('Starting iterations!\\nPath number: {}\\nIteration: {}\\nBeam width: {}'.\n",
    "      format(pathNumber, iteration, beamWidth))\n",
    "\n",
    "for path in tqdm_notebook(np.arange(pathStart, pathNumber + 1, pathSpacing)):\n",
    "    currentIteration = []\n",
    "    for itr in np.arange(iteration):\n",
    "        angles = generateAngleMinimum(path, beamWidth)\n",
    "        channelCoefficient = generateChannelCoefficient(\n",
    "            path, pathCoefficient, angles)\n",
    "        currentIteration.append(channelCoefficient)\n",
    "    channelCoefficientIterations.append(currentIteration)\n",
    "    channelCoefficientAverage.append(mean(currentIteration))"
   ]
  },
  {
   "cell_type": "code",
   "execution_count": 25,
   "metadata": {
    "scrolled": false
   },
   "outputs": [
    {
     "data": {
      "text/plain": [
       "(1000, 8, 8)"
      ]
     },
     "execution_count": 25,
     "metadata": {},
     "output_type": "execute_result"
    }
   ],
   "source": [
    "len(currentIteration), len(iteratedChannelCoefficient), len(channelAvgCoefficient)"
   ]
  },
  {
   "cell_type": "code",
   "execution_count": 128,
   "metadata": {},
   "outputs": [
    {
     "name": "stdout",
     "output_type": "stream",
     "text": [
      "[2.437977125445596, 5.1231948744809905, 8.024932808315272, 10.80804386371636, 2.5179338579554638, 4.98280041338743, 7.866485280378332, 8.798791327521855]\n"
     ]
    }
   ],
   "source": [
    "# print(currentIteration)\n",
    "# print(iteratedChannelCoefficient)\n",
    "print(channelAvgCoefficient)"
   ]
  }
 ],
 "metadata": {
  "kernelspec": {
   "display_name": "Python 3",
   "language": "python",
   "name": "python3"
  },
  "language_info": {
   "codemirror_mode": {
    "name": "ipython",
    "version": 3
   },
   "file_extension": ".py",
   "mimetype": "text/x-python",
   "name": "python",
   "nbconvert_exporter": "python",
   "pygments_lexer": "ipython3",
   "version": "3.6.7"
  }
 },
 "nbformat": 4,
 "nbformat_minor": 2
}
