{
 "cells": [
  {
   "cell_type": "code",
   "execution_count": 5,
   "metadata": {
    "ExecuteTime": {
     "end_time": "2019-05-23T21:36:59.919863Z",
     "start_time": "2019-05-23T21:36:55.561337Z"
    }
   },
   "outputs": [],
   "source": [
    "import numpy as np\n",
    "np.set_printoptions(suppress=True)\n",
    "import pandas as pd\n",
    "import matplotlib.pyplot as plt\n",
    "np.set_printoptions(suppress=True)\n",
    "from sklearn.linear_model import LinearRegression\n",
    "from statistics import mean\n",
    "from tqdm import tqdm_notebook"
   ]
  },
  {
   "cell_type": "code",
   "execution_count": 6,
   "metadata": {
    "ExecuteTime": {
     "end_time": "2019-05-23T21:37:00.039561Z",
     "start_time": "2019-05-23T21:36:59.923739Z"
    },
    "scrolled": true
   },
   "outputs": [
    {
     "name": "stdout",
     "output_type": "stream",
     "text": [
      "ch_max_1000avg_10.csv  ch_max_1000avg_30.csv\r\n",
      "ch_max_1000avg_20.csv  ch_max_1000avg_5.csv\r\n"
     ]
    }
   ],
   "source": [
    "ls ../../dataset/1000_iteration/maximum"
   ]
  },
  {
   "cell_type": "code",
   "execution_count": 7,
   "metadata": {
    "ExecuteTime": {
     "end_time": "2019-05-23T21:37:00.049681Z",
     "start_time": "2019-05-23T21:37:00.043776Z"
    }
   },
   "outputs": [],
   "source": [
    "def generateAngleMaximum(angleNumber, beamWidth):\n",
    "    lowerBound = -beamWidth / 2\n",
    "    upperBond = beamWidth / 2\n",
    "    angles = np.random.uniform(lowerBound, upperBond, angleNumber)\n",
    "    return angles\n",
    "\n",
    "\n",
    "def angularValue(angleArray):\n",
    "    sumOfCos = 0\n",
    "    index = 1\n",
    "    for i in angleArray:\n",
    "        for j in angleArray[index:]:\n",
    "            sumOfCos += np.cos(np.deg2rad(i - j))\n",
    "        index += 1\n",
    "    return sumOfCos\n",
    "\n",
    "\n",
    "def generateChannelCoefficient(pathNumber, pathCoefficient, angles):\n",
    "    channelCoefficient = np.square(pathCoefficient) * (\n",
    "        pathNumber + (2 * angularValue(angles)))\n",
    "    return channelCoefficient"
   ]
  },
  {
   "cell_type": "code",
   "execution_count": 8,
   "metadata": {
    "ExecuteTime": {
     "end_time": "2019-05-23T21:37:00.165952Z",
     "start_time": "2019-05-23T21:37:00.053350Z"
    }
   },
   "outputs": [],
   "source": [
    "'''List of used var.\n",
    "\n",
    "Keywords var:\n",
    "beamwidth [Hz]              --\n",
    "iteration                   --\n",
    "pathCoefficient (a)         --\n",
    "pathNumber (N)              --\n",
    "pathStart                   -- Path where iteration starts\n",
    "pathSpacing                 -- Spacing between iterated path\n",
    "currentIteration            -- Channel coefficient of a path for current iteration\n",
    "channelCoefficientIterations -- A group of channel coefficient iterations for each path\n",
    "channelCoefficientAverage   -- The average of 'channelCoefficientIterations' for each path\n",
    "fileName                    --\n",
    "'''\n",
    "\n",
    "beamWidth = 0\n",
    "iteration = 1\n",
    "pathCoefficient = 1\n",
    "pathNumber = 1000\n",
    "pathStart = 50\n",
    "pathSpacing = 50\n",
    "fileName = 'ch_max_{}avg_{}.csv'.format(iteration, beamWidth)\n",
    "currentIteration = []\n",
    "channelCoefficientIterations = []\n",
    "channelCoefficientAverage = []"
   ]
  },
  {
   "cell_type": "code",
   "execution_count": 9,
   "metadata": {
    "ExecuteTime": {
     "end_time": "2019-05-23T21:37:08.103850Z",
     "start_time": "2019-05-23T21:37:00.183043Z"
    }
   },
   "outputs": [
    {
     "name": "stdout",
     "output_type": "stream",
     "text": [
      "Starting iterations!\n",
      "Path number: 1000\n",
      "Iteration: 1\n",
      "Beam width: 0\n",
      "ch_max_1avg_0.csv\n"
     ]
    },
    {
     "data": {
      "application/vnd.jupyter.widget-view+json": {
       "model_id": "4c53355a7e0b432e8e6e040f193cd91e",
       "version_major": 2,
       "version_minor": 0
      },
      "text/plain": [
       "HBox(children=(IntProgress(value=0, max=20), HTML(value='')))"
      ]
     },
     "metadata": {},
     "output_type": "display_data"
    },
    {
     "name": "stdout",
     "output_type": "stream",
     "text": [
      "\n"
     ]
    }
   ],
   "source": [
    "print('Starting iterations!\\nPath number: {}\\nIteration: {}\\nBeam width: {}'.\n",
    "      format(pathNumber, iteration, beamWidth))\n",
    "print(fileName)\n",
    "\n",
    "for path in tqdm_notebook(np.arange(pathStart, pathNumber + 1, pathSpacing)):\n",
    "    currentIteration = []\n",
    "    for itr in np.arange(iteration):\n",
    "        angles = generateAngleMaximum(path, beamWidth)\n",
    "        channelCoefficient = generateChannelCoefficient(\n",
    "            path, pathCoefficient, angles)\n",
    "        currentIteration.append(channelCoefficient)\n",
    "    channelCoefficientIterations.append(currentIteration)\n",
    "    channelCoefficientAverage.append(mean(currentIteration))"
   ]
  },
  {
   "cell_type": "code",
   "execution_count": 10,
   "metadata": {
    "ExecuteTime": {
     "end_time": "2019-05-23T21:37:13.505395Z",
     "start_time": "2019-05-23T21:37:13.490258Z"
    },
    "scrolled": true
   },
   "outputs": [
    {
     "data": {
      "text/plain": [
       "[2500.0,\n",
       " 10000.0,\n",
       " 22500.0,\n",
       " 40000.0,\n",
       " 62500.0,\n",
       " 90000.0,\n",
       " 122500.0,\n",
       " 160000.0,\n",
       " 202500.0,\n",
       " 250000.0,\n",
       " 302500.0,\n",
       " 360000.0,\n",
       " 422500.0,\n",
       " 490000.0,\n",
       " 562500.0,\n",
       " 640000.0,\n",
       " 722500.0,\n",
       " 810000.0,\n",
       " 902500.0,\n",
       " 1000000.0]"
      ]
     },
     "execution_count": 10,
     "metadata": {},
     "output_type": "execute_result"
    }
   ],
   "source": [
    "channelCoefficientAverage"
   ]
  },
  {
   "cell_type": "code",
   "execution_count": 6,
   "metadata": {
    "ExecuteTime": {
     "end_time": "2019-05-23T17:34:38.032554Z",
     "start_time": "2019-05-23T17:34:38.029202Z"
    }
   },
   "outputs": [],
   "source": [
    "np.savetxt(\n",
    "    '../../dataset/1000_iteration/maximum/{}'.format(fileName),\n",
    "    channelCoefficientAverage,\n",
    "    fmt='%10.5f')"
   ]
  },
  {
   "cell_type": "code",
   "execution_count": 7,
   "metadata": {
    "ExecuteTime": {
     "end_time": "2019-05-23T17:34:38.479062Z",
     "start_time": "2019-05-23T17:34:38.034377Z"
    },
    "scrolled": false
   },
   "outputs": [
    {
     "data": {
      "text/plain": [
       "[<matplotlib.lines.Line2D at 0x7f742efe3f60>]"
      ]
     },
     "execution_count": 7,
     "metadata": {},
     "output_type": "execute_result"
    },
    {
     "data": {
      "image/png": "[encoded data removed]",
      "text/plain": [
       "<Figure size 432x288 with 1 Axes>"
      ]
     },
     "metadata": {
      "needs_background": "light"
     },
     "output_type": "display_data"
    }
   ],
   "source": [
    "plt.plot(\n",
    "    np.arange(pathStart, pathNumber + 1, pathSpacing),\n",
    "    channelCoefficientAverage,\n",
    "    marker='o')"
   ]
  }
 ],
 "metadata": {
  "kernelspec": {
   "display_name": "Python 3",
   "language": "python",
   "name": "python3"
  },
  "language_info": {
   "codemirror_mode": {
    "name": "ipython",
    "version": 3
   },
   "file_extension": ".py",
   "mimetype": "text/x-python",
   "name": "python",
   "nbconvert_exporter": "python",
   "pygments_lexer": "ipython3",
   "version": "3.6.7"
  }
 },
 "nbformat": 4,
 "nbformat_minor": 2
}
