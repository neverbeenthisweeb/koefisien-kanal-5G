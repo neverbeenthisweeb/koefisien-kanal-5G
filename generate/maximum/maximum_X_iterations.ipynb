{
 "cells": [
  {
   "cell_type": "code",
   "execution_count": 46,
   "metadata": {
    "ExecuteTime": {
     "end_time": "2019-05-23T09:24:22.301439Z",
     "start_time": "2019-05-23T09:24:22.268599Z"
    }
   },
   "outputs": [],
   "source": [
    "import numpy as np\n",
    "np.set_printoptions(suppress=True)\n",
    "import pandas as pd\n",
    "import matplotlib.pyplot as plt\n",
    "np.set_printoptions(suppress=True)\n",
    "from sklearn.linear_model import LinearRegression\n",
    "from statistics import mean\n",
    "from tqdm import tqdm_notebook"
   ]
  },
  {
   "cell_type": "code",
   "execution_count": 53,
   "metadata": {
    "ExecuteTime": {
     "end_time": "2019-05-23T11:41:36.446286Z",
     "start_time": "2019-05-23T11:41:36.311473Z"
    },
    "scrolled": true
   },
   "outputs": [
    {
     "name": "stdout",
     "output_type": "stream",
     "text": [
      "ch_max_1000avg_10.csv  ch_min_1000avg_20.csv  ch_min_simplified.csv\r\n",
      "ch_min_1000avg_0.csv   ch_min_1000avg_30.csv\r\n",
      "ch_min_1000avg_10.csv  ch_min_1000avg_5.csv\r\n"
     ]
    }
   ],
   "source": [
    "ls ../../dataset/1000_iteration"
   ]
  },
  {
   "cell_type": "code",
   "execution_count": 48,
   "metadata": {
    "ExecuteTime": {
     "end_time": "2019-05-23T09:24:25.121772Z",
     "start_time": "2019-05-23T09:24:25.091873Z"
    }
   },
   "outputs": [],
   "source": [
    "def generateAngleMaximum(angleNumber, beamWidth):\n",
    "    lowerBound = -beamWidth / 2\n",
    "    upperBond = beamWidth / 2\n",
    "    angles = np.random.uniform(lowerBound, upperBond, angleNumber)\n",
    "    return angles\n",
    "\n",
    "\n",
    "def angularValue(angleArray):\n",
    "    sumOfCos = 0\n",
    "    index = 1\n",
    "    for i in angleArray:\n",
    "        for j in angleArray[index:]:\n",
    "            sumOfCos += np.cos(np.deg2rad(i - j))\n",
    "        index += 1\n",
    "    return sumOfCos\n",
    "\n",
    "\n",
    "def generateChannelCoefficient(pathNumber, pathCoefficient, angles):\n",
    "    channelCoefficient = np.square(pathCoefficient) * (\n",
    "        pathNumber + (2 * angularValue(angles)))\n",
    "    return channelCoefficient"
   ]
  },
  {
   "cell_type": "code",
   "execution_count": 54,
   "metadata": {
    "ExecuteTime": {
     "end_time": "2019-05-23T11:42:11.854939Z",
     "start_time": "2019-05-23T11:42:11.840272Z"
    }
   },
   "outputs": [],
   "source": [
    "'''List of used var.\n",
    "\n",
    "Keywords var:\n",
    "beamwidth [Hz]              --\n",
    "iteration                   --\n",
    "pathCoefficient (a)         --\n",
    "pathNumber (N)              --\n",
    "pathStart                   -- Path where iteration starts\n",
    "pathSpacing                 -- Spacing between iterated path\n",
    "currentIteration            -- Channel coefficient of a path for current iteration\n",
    "channelCoefficientIterations -- A group of channel coefficient iterations for each path\n",
    "channelCoefficientAverage   -- The average of 'channelCoefficientIterations' for each path\n",
    "fileName                    --\n",
    "'''\n",
    "\n",
    "beamWidth = 20\n",
    "iteration = 1000\n",
    "pathCoefficient = 1\n",
    "pathNumber = 1000\n",
    "pathStart = 50\n",
    "pathSpacing = 50\n",
    "fileName = 'ch_max_{}avg_{}.csv'.format(iteration, beamWidth)\n",
    "currentIteration = []\n",
    "channelCoefficientIterations = []\n",
    "channelCoefficientAverage = []"
   ]
  },
  {
   "cell_type": "code",
   "execution_count": 56,
   "metadata": {
    "ExecuteTime": {
     "end_time": "2019-05-23T13:46:28.795281Z",
     "start_time": "2019-05-23T11:42:23.022778Z"
    }
   },
   "outputs": [
    {
     "name": "stdout",
     "output_type": "stream",
     "text": [
      "Starting iterations!\n",
      "Path number: 1000\n",
      "Iteration: 1000\n",
      "Beam width: 20\n",
      "ch_max_1000avg_20.csv\n"
     ]
    },
    {
     "data": {
      "application/vnd.jupyter.widget-view+json": {
       "model_id": "d1a3616bd85a4fa4931877459c2bd283",
       "version_major": 2,
       "version_minor": 0
      },
      "text/plain": [
       "HBox(children=(IntProgress(value=0, max=20), HTML(value='')))"
      ]
     },
     "metadata": {},
     "output_type": "display_data"
    },
    {
     "name": "stdout",
     "output_type": "stream",
     "text": [
      "\n"
     ]
    }
   ],
   "source": [
    "print('Starting iterations!\\nPath number: {}\\nIteration: {}\\nBeam width: {}'.\n",
    "      format(pathNumber, iteration, beamWidth))\n",
    "print(fileName)\n",
    "\n",
    "for path in tqdm_notebook(np.arange(pathStart, pathNumber + 1, pathSpacing)):\n",
    "    currentIteration = []\n",
    "    for itr in np.arange(iteration):\n",
    "        angles = generateAngleMaximum(path, beamWidth)\n",
    "        channelCoefficient = generateChannelCoefficient(\n",
    "            path, pathCoefficient, angles)\n",
    "        currentIteration.append(channelCoefficient)\n",
    "    channelCoefficientIterations.append(currentIteration)\n",
    "    channelCoefficientAverage.append(mean(currentIteration))"
   ]
  },
  {
   "cell_type": "code",
   "execution_count": 58,
   "metadata": {
    "ExecuteTime": {
     "end_time": "2019-05-23T14:04:21.596956Z",
     "start_time": "2019-05-23T14:04:21.591698Z"
    }
   },
   "outputs": [],
   "source": [
    "np.savetxt(\n",
    "    '../../dataset/1000_iteration/{}'.format(fileName),\n",
    "    channelCoefficientAverage,\n",
    "    fmt='%10.5f')"
   ]
  },
  {
   "cell_type": "code",
   "execution_count": 59,
   "metadata": {
    "ExecuteTime": {
     "end_time": "2019-05-23T14:04:26.819676Z",
     "start_time": "2019-05-23T14:04:26.583967Z"
    },
    "scrolled": false
   },
   "outputs": [
    {
     "data": {
      "text/plain": [
       "[<matplotlib.lines.Line2D at 0x7f98663d72b0>]"
      ]
     },
     "execution_count": 59,
     "metadata": {},
     "output_type": "execute_result"
    },
    {
     "data": {
      "image/png": "[encoded data removed]",
      "text/plain": [
       "<Figure size 432x288 with 1 Axes>"
      ]
     },
     "metadata": {
      "needs_background": "light"
     },
     "output_type": "display_data"
    }
   ],
   "source": [
    "plt.plot(\n",
    "    np.arange(pathStart, pathNumber + 1, pathSpacing),\n",
    "    channelCoefficientAverage,\n",
    "    marker='o')"
   ]
  }
 ],
 "metadata": {
  "kernelspec": {
   "display_name": "Python 3",
   "language": "python",
   "name": "python3"
  },
  "language_info": {
   "codemirror_mode": {
    "name": "ipython",
    "version": 3
   },
   "file_extension": ".py",
   "mimetype": "text/x-python",
   "name": "python",
   "nbconvert_exporter": "python",
   "pygments_lexer": "ipython3",
   "version": "3.6.7"
  }
 },
 "nbformat": 4,
 "nbformat_minor": 2
}
