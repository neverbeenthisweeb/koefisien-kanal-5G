{
 "cells": [
  {
   "cell_type": "code",
   "execution_count": 3,
   "metadata": {},
   "outputs": [],
   "source": [
    "import numpy as np\n",
    "np.set_printoptions(suppress=True)\n",
    "import pandas as pd\n",
    "import matplotlib.pyplot as plt\n",
    "np.set_printoptions(suppress=True)\n",
    "from sklearn.linear_model import LinearRegression\n",
    "from statistics import mean\n",
    "from tqdm import tqdm_notebook"
   ]
  },
  {
   "cell_type": "code",
   "execution_count": 4,
   "metadata": {},
   "outputs": [],
   "source": [
    "def generateAngleMaximum(angleNumber, beamWidth):\n",
    "    lowerBound = -beamWidth / 2\n",
    "    upperBond = beamWidth / 2\n",
    "    angles = np.random.uniform(lowerBound, upperBond, angleNumber)\n",
    "    return angles\n",
    "\n",
    "\n",
    "def angularValue(angleArray):\n",
    "    sumOfCos = 0\n",
    "    index = 1\n",
    "    for i in angleArray:\n",
    "        for j in angleArray[index:]:\n",
    "            sumOfCos += np.cos(np.deg2rad(i - j))\n",
    "        index += 1\n",
    "    return sumOfCos\n",
    "\n",
    "\n",
    "def generateChannelCoefficient(pathNumber, pathCoefficient, angles):\n",
    "    channelCoefficient = np.square(pathCoefficient) * (\n",
    "        pathNumber + (2 * angularValue(angles)))\n",
    "    return channelCoefficient"
   ]
  },
  {
   "cell_type": "code",
   "execution_count": 8,
   "metadata": {},
   "outputs": [],
   "source": [
    "beamWidth = 5\n",
    "pathCoefficient = 1\n",
    "pathNumber = 200\n",
    "channelCoefficientList = []"
   ]
  },
  {
   "cell_type": "code",
   "execution_count": 9,
   "metadata": {
    "scrolled": true
   },
   "outputs": [
    {
     "name": "stdout",
     "output_type": "stream",
     "text": [
      "Starting iterations!\n",
      "Path number: 200\n",
      "Iteration: 1\n",
      "Beam width: 5\n"
     ]
    },
    {
     "data": {
      "application/vnd.jupyter.widget-view+json": {
       "model_id": "a3c01c871aef4cb697980c18ace9b138",
       "version_major": 2,
       "version_minor": 0
      },
      "text/plain": [
       "HBox(children=(IntProgress(value=0, max=200), HTML(value='')))"
      ]
     },
     "metadata": {},
     "output_type": "display_data"
    },
    {
     "name": "stdout",
     "output_type": "stream",
     "text": [
      "\n"
     ]
    }
   ],
   "source": [
    "print('Starting iterations!\\nPath number: {}\\nIteration: {}\\nBeam width: {}'.\n",
    "      format(pathNumber, 1, beamWidth))\n",
    "\n",
    "for path in tqdm_notebook(np.arange(1, pathNumber + 1)):\n",
    "    angles = generateAngleMaximum(path, beamWidth)\n",
    "    channelCoefficientList.append(generateChannelCoefficient(\n",
    "        path, pathCoefficient, angles))\n"
   ]
  },
  {
   "cell_type": "code",
   "execution_count": 10,
   "metadata": {
    "collapsed": true
   },
   "outputs": [
    {
     "data": {
      "text/plain": [
       "[1,\n",
       " 3.999974547013199,\n",
       " 8.996377187492751,\n",
       " 15.99329443636832,\n",
       " 24.986796945912314,\n",
       " 35.977390271101996,\n",
       " 48.97673600952461,\n",
       " 63.949116483322605,\n",
       " 80.95707000960691,\n",
       " 99.93016764739534,\n",
       " 120.91733187958216,\n",
       " 143.88848400258533,\n",
       " 168.91385430843636,\n",
       " 195.89378881306095,\n",
       " 224.87479179029611,\n",
       " 255.9016604760741,\n",
       " 288.8458244109009,\n",
       " 323.7928762742518,\n",
       " 360.8213690003815,\n",
       " 399.7551052752647,\n",
       " 440.758810887241,\n",
       " 483.77967700237645,\n",
       " 528.6981033965427,\n",
       " 575.6953822457399,\n",
       " 624.5496918885619,\n",
       " 675.6186137919372,\n",
       " 728.7483586252924,\n",
       " 783.3782418325011,\n",
       " 840.4748604950236,\n",
       " 899.4976992669789,\n",
       " 960.275784624586,\n",
       " 1023.4589104237975,\n",
       " 1088.390034881204,\n",
       " 1155.6014792255678,\n",
       " 1224.2315401227097,\n",
       " 1295.3816620904665,\n",
       " 1368.150170177612,\n",
       " 1443.0535771746656,\n",
       " 1519.9586940989648,\n",
       " 1599.0908023694287,\n",
       " 1679.9187514297942,\n",
       " 1762.9492186999032,\n",
       " 1847.8100652123467,\n",
       " 1934.5731410459666,\n",
       " 2023.6080224667126,\n",
       " 2114.6477472016472,\n",
       " 2207.6590031838814,\n",
       " 2302.4376068438182,\n",
       " 2399.4054822713288,\n",
       " 2498.3171401732634,\n",
       " 2599.3504377274285,\n",
       " 2702.429951052973,\n",
       " 2807.038397456127,\n",
       " 2913.8764455274413,\n",
       " 3022.682924685081,\n",
       " 3133.8383321009637,\n",
       " 3246.79132120079,\n",
       " 3362.262376638662,\n",
       " 3478.8470230534313,\n",
       " 3598.054484989764,\n",
       " 3718.7624796830332,\n",
       " 3841.811122574098,\n",
       " 3966.9757316370305,\n",
       " 4093.393753382677,\n",
       " 4222.203346424445,\n",
       " 4353.041392321097,\n",
       " 4485.931478373414,\n",
       " 4621.6787414940745,\n",
       " 4758.344773785167,\n",
       " 4896.612299112815,\n",
       " 5038.2372382593485,\n",
       " 5180.984923054834,\n",
       " 5325.581639994711,\n",
       " 5472.672858661266,\n",
       " 5621.540245391264,\n",
       " 5772.445286181171,\n",
       " 5925.759705192886,\n",
       " 6080.796613836262,\n",
       " 6237.492784393089,\n",
       " 6396.2102312959605,\n",
       " 6556.612298193593,\n",
       " 6719.859900569679,\n",
       " 6884.307563011024,\n",
       " 7050.495900068609,\n",
       " 7220.255488914363,\n",
       " 7391.969420077888,\n",
       " 7564.652618247343,\n",
       " 7739.029725920682,\n",
       " 7915.964310831205,\n",
       " 8094.590446432638,\n",
       " 8275.290874431977,\n",
       " 8458.905924432915,\n",
       " 8642.704975799632,\n",
       " 8829.650511149432,\n",
       " 9019.958824906871,\n",
       " 9209.983971575408,\n",
       " 9402.778656873905,\n",
       " 9596.869995353223,\n",
       " 9795.542520463103,\n",
       " 9993.906762169145,\n",
       " 10194.651610151514,\n",
       " 10398.356510286561,\n",
       " 10602.305830126701,\n",
       " 10808.694031440331,\n",
       " 11017.91387184019,\n",
       " 11229.18914797429,\n",
       " 11441.892222107912,\n",
       " 11656.44659702375,\n",
       " 11873.981353984767,\n",
       " 12091.322160467453,\n",
       " 12313.239109387967,\n",
       " 12535.692325594044,\n",
       " 12761.880309490027,\n",
       " 12988.342146619198,\n",
       " 13217.070309813102,\n",
       " 13445.96301548683,\n",
       " 13680.257196501065,\n",
       " 13914.631316156141,\n",
       " 14151.186722911578,\n",
       " 14391.32449545013,\n",
       " 14631.10581730117,\n",
       " 14874.951580500989,\n",
       " 15119.391086916363,\n",
       " 15366.230692443414,\n",
       " 15616.900170855031,\n",
       " 15865.338870177751,\n",
       " 16117.906347703241,\n",
       " 16373.423057327866,\n",
       " 16630.98937626756,\n",
       " 16890.118770562327,\n",
       " 17150.510630551795,\n",
       " 17413.9576027616,\n",
       " 17678.686408507925,\n",
       " 17944.284498315228,\n",
       " 18211.449463342822,\n",
       " 18482.733722043547,\n",
       " 18757.025342162615,\n",
       " 19032.48676774538,\n",
       " 19309.98432305248,\n",
       " 19586.787301592456,\n",
       " 19870.052608730453,\n",
       " 20148.031537720428,\n",
       " 20434.853337117434,\n",
       " 20722.63803180271,\n",
       " 21014.043840106868,\n",
       " 21302.914312150948,\n",
       " 21594.865549350634,\n",
       " 21891.053254527753,\n",
       " 22184.57347864718,\n",
       " 22488.567657738895,\n",
       " 22786.305044712415,\n",
       " 23088.6436243935,\n",
       " 23394.854511610232,\n",
       " 23699.5460740212,\n",
       " 24011.581481061432,\n",
       " 24320.53739503738,\n",
       " 24633.219451292927,\n",
       " 24946.576796589765,\n",
       " 25265.51146873282,\n",
       " 25582.09585688448,\n",
       " 25903.766761693052,\n",
       " 26228.17798895404,\n",
       " 26552.817007474125,\n",
       " 26878.68907075035,\n",
       " 27209.405470388316,\n",
       " 27539.32915714209,\n",
       " 27870.84123890969,\n",
       " 28205.559587566466,\n",
       " 28543.35913193199,\n",
       " 28883.067415225458,\n",
       " 29222.87038327744,\n",
       " 29565.07613348514,\n",
       " 29911.706441759034,\n",
       " 30254.436479303316,\n",
       " 30605.99858078862,\n",
       " 30955.970435949195,\n",
       " 31312.737365380894,\n",
       " 31664.122096333514,\n",
       " 32019.886784148443,\n",
       " 32381.92072190989,\n",
       " 32740.83913434982,\n",
       " 33104.072362921346,\n",
       " 33468.878829038906,\n",
       " 33834.06100633259,\n",
       " 34201.21492447748,\n",
       " 34575.888983510886,\n",
       " 34948.97399799142,\n",
       " 35318.85350552856,\n",
       " 35699.40299640213,\n",
       " 36078.93297396258,\n",
       " 36457.167070609925,\n",
       " 36841.65458673773,\n",
       " 37227.03243901166,\n",
       " 37611.19023555391,\n",
       " 38000.89904685792,\n",
       " 38389.87177653653,\n",
       " 38781.75457721892,\n",
       " 39181.86923386241,\n",
       " 39577.692632505066,\n",
       " 39975.78375901943]"
      ]
     },
     "execution_count": 10,
     "metadata": {},
     "output_type": "execute_result"
    }
   ],
   "source": [
    "channelCoefficientList"
   ]
  },
  {
   "cell_type": "code",
   "execution_count": 19,
   "metadata": {},
   "outputs": [],
   "source": [
    "np.savetxt('../ml/dataset/5.csv', channelCoefficientList)"
   ]
  },
  {
   "cell_type": "code",
   "execution_count": 12,
   "metadata": {
    "scrolled": true
   },
   "outputs": [
    {
     "data": {
      "text/plain": [
       "[<matplotlib.lines.Line2D at 0x7f1e3b5e3b70>]"
      ]
     },
     "execution_count": 12,
     "metadata": {},
     "output_type": "execute_result"
    },
    {
     "data": {
      "image/png": "[encoded data removed]",
      "text/plain": [
       "<Figure size 432x288 with 1 Axes>"
      ]
     },
     "metadata": {
      "needs_background": "light"
     },
     "output_type": "display_data"
    }
   ],
   "source": [
    "plt.plot(range(1, pathNumber+1), channelCoefficientList)"
   ]
  }
 ],
 "metadata": {
  "kernelspec": {
   "display_name": "Python 3",
   "language": "python",
   "name": "python3"
  },
  "language_info": {
   "codemirror_mode": {
    "name": "ipython",
    "version": 3
   },
   "file_extension": ".py",
   "mimetype": "text/x-python",
   "name": "python",
   "nbconvert_exporter": "python",
   "pygments_lexer": "ipython3",
   "version": "3.6.7"
  }
 },
 "nbformat": 4,
 "nbformat_minor": 2
}
